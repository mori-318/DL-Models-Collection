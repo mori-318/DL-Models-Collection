{
 "cells": [
  {
   "cell_type": "code",
   "execution_count": 21,
   "id": "2220e29e",
   "metadata": {},
   "outputs": [],
   "source": [
    "import os\n",
    "import shutil\n",
    "import numpy as np\n",
    "import torchvision\n",
    "import matplotlib.pyplot as plt"
   ]
  },
  {
   "cell_type": "markdown",
   "id": "05cafaa3",
   "metadata": {},
   "source": [
    "# ダウンロード"
   ]
  },
  {
   "cell_type": "code",
   "execution_count": 18,
   "id": "5c45609e",
   "metadata": {},
   "outputs": [
    {
     "name": "stdout",
     "output_type": "stream",
     "text": [
      "CIFAR-10データセットのダウンロードと保存が完了しました\n"
     ]
    }
   ],
   "source": [
    "# データ保存用ディレクトリ作成\n",
    "os.makedirs('./data', exist_ok=True)\n",
    "\n",
    "# CIFAR-10データセットのダウンロード\n",
    "trainset = torchvision.datasets.CIFAR10(root='./data', train=True, download=True)\n",
    "testset = torchvision.datasets.CIFAR10(root='./data', train=False, download=True)\n",
    "\n",
    "# NumPy配列に変換\n",
    "train_data = np.array(trainset.data)\n",
    "train_labels = np.array(trainset.targets)\n",
    "test_data = np.array(testset.data)\n",
    "test_labels = np.array(testset.targets)\n",
    "\n",
    "# NumPy形式で保存\n",
    "np.save('./data/x_train.npy', train_data)\n",
    "np.save('./data/y_train.npy', train_labels)\n",
    "np.save('./data/x_test.npy', test_data)\n",
    "np.save('./data/y_test.npy', test_labels)\n",
    "\n",
    "# 不要なディレクトリ・フォルダの削除\n",
    "shutil.rmtree('./data/cifar-10-batches-py')\n",
    "os.remove('./data/cifar-10-python.tar.gz')\n",
    "\n",
    "print(\"CIFAR-10データセットのダウンロードと保存が完了しました\")"
   ]
  },
  {
   "cell_type": "markdown",
   "id": "288d0ea5",
   "metadata": {},
   "source": [
    "# ダウンロードしたデータを確認\n"
   ]
  },
  {
   "cell_type": "code",
   "execution_count": 20,
   "id": "b0afa471",
   "metadata": {},
   "outputs": [
    {
     "name": "stdout",
     "output_type": "stream",
     "text": [
      "x_train.shape: (50000, 32, 32, 3)\n",
      "y_train.shape: (50000,)\n",
      "x_test.shape: (10000, 32, 32, 3)\n",
      "y_test.shape: (10000,)\n"
     ]
    }
   ],
   "source": [
    "# データの読み込み\n",
    "x_train = np.load('./data/x_train.npy')\n",
    "y_train = np.load('./data/y_train.npy')\n",
    "x_test = np.load('./data/x_test.npy')\n",
    "y_test = np.load('./data/y_test.npy')\n",
    "\n",
    "# 形状の確認\n",
    "print(f\"x_train.shape: {x_train.shape}\")\n",
    "print(f\"y_train.shape: {y_train.shape}\")\n",
    "print(f\"x_test.shape: {x_test.shape}\")\n",
    "print(f\"y_test.shape: {y_test.shape}\")"
   ]
  },
  {
   "cell_type": "code",
   "execution_count": 22,
   "id": "4630d6a3",
   "metadata": {},
   "outputs": [
    {
     "data": {
      "image/png": "[encoded data removed]",
      "text/plain": [
       "<Figure size 640x480 with 1 Axes>"
      ]
     },
     "metadata": {},
     "output_type": "display_data"
    }
   ],
   "source": [
    "# x_trainを一枚可視化\n",
    "plt.imshow(x_train[0])\n",
    "plt.show()"
   ]
  }
 ],
 "metadata": {
  "kernelspec": {
   "display_name": ".venv",
   "language": "python",
   "name": "python3"
  },
  "language_info": {
   "codemirror_mode": {
    "name": "ipython",
    "version": 3
   },
   "file_extension": ".py",
   "mimetype": "text/x-python",
   "name": "python",
   "nbconvert_exporter": "python",
   "pygments_lexer": "ipython3",
   "version": "3.12.3"
  }
 },
 "nbformat": 4,
 "nbformat_minor": 5
}
