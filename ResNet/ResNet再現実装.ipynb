{
 "cells": [
  {
   "cell_type": "markdown",
   "id": "a77c6419",
   "metadata": {},
   "source": [
    "# ResNetを再現実装"
   ]
  },
  {
   "cell_type": "code",
   "execution_count": 4,
   "id": "c93d87ae",
   "metadata": {},
   "outputs": [],
   "source": [
    "import os\n",
    "import torch\n",
    "import torch.nn as nn\n",
    "import torch.nn.functional as F\n",
    "import torch.optim as optim\n",
    "\n",
    "import torchvision\n",
    "\n",
    "from torchsummary import summary"
   ]
  },
  {
   "cell_type": "markdown",
   "id": "cdebcf0c",
   "metadata": {},
   "source": [
    "### ResNet-20アーキテクチャ実装"
   ]
  },
  {
   "cell_type": "code",
   "execution_count": null,
   "id": "11d5726c",
   "metadata": {},
   "outputs": [],
   "source": [
    "def conv3x3(in_ch, out_ch, stride=1, padding=1):\n",
    "    \"\"\"3x3の畳み込み\"\"\"\n",
    "    return nn.Conv2d(in_ch, out_ch, kernel_size=3, stride=stride, padding=padding, bias=False)\n",
    "\n",
    "class BasicBlock(nn.Module):\n",
    "    \"\"\"\n",
    "    BasicBlock\n",
    "    2層の畳み込みの後にショートカットを足す\n",
    "    \"\"\"\n",
    "    def __init__(self, in_ch, out_ch, stride=1):\n",
    "        super().__init__()\n",
    "        self.conv1 = conv3x3(in_ch, out_ch, stride)\n",
    "        self.bn1 = nn.BatchNorm2d(out_ch)\n",
    "        self.conv2 = conv3x3(out_ch, out_ch)\n",
    "        self.bn2 = nn.BatchNorm2d(out_ch)\n",
    "\n",
    "        # 入力と出力のチャンネル数を合わせるために、ストライドで間引き & ゼロチャンネルで埋める\n",
    "        if stride != 1 or in_ch != out_ch:\n",
    "            # オプションAのショートカット\n",
    "            self.shortcut = lambda x: F.pad(\n",
    "                x[:, :, ::stride, ::stride],\n",
    "                (0, 0, 0, 0, 0, out_ch - in_ch),\n",
    "            )\n",
    "        else:\n",
    "            self.shortcut = lambda x: x\n",
    "\n",
    "    def forward(self, x):\n",
    "        out = F.relu(self.bn1(self.conv1(x)))\n",
    "        out = self.bn2(self.conv2(out))\n",
    "        out += self.shortcut(x)\n",
    "        out = F.relu(out)\n",
    "        return out\n",
    "\n",
    "class ResNet20(nn.Module):\n",
    "    \"\"\"\n",
    "    ResNet20\n",
    "    入力画像のサイズは32x32\n",
    "    \"\"\"\n",
    "    def __init__(self, num_classes=10):\n",
    "        super().__init__()\n",
    "        self.in_ch = 16\n",
    "\n",
    "        self.conv1 = conv3x3(3, self.in_ch)                            # １層目\n",
    "\n",
    "        self.bn1 = nn.BatchNorm2d(self.in_ch)\n",
    "        self.layer1 = self._make_layer(out_ch=16, blocks=3, stride=1)  # 2~7層目\n",
    "        self.layer2 = self._make_layer(out_ch=32, blocks=3, stride=2)  # 8~13層目\n",
    "        self.layer3 = self._make_layer(out_ch=64, blocks=3, stride=2)  # 14~19層目\n",
    "\n",
    "        self.avgpool = nn.AdaptiveAvgPool2d((1, 1))\n",
    "        self.fc = nn.Linear(64, num_classes)                           # 20層目\n",
    "\n",
    "        # 重みの初期化\n",
    "        self.apply(self._init_weights)\n",
    "\n",
    "    def _make_layer(self, out_ch, blocks, stride):\n",
    "        \"\"\"\n",
    "        BasicBlockをblocks回重ねた層を作成\n",
    "        Args:\n",
    "            out_ch (int): 出力チャンネル数\n",
    "            blocks (int): BasicBlockを重ねる数\n",
    "            stride (int): 畳み込みのストライド\n",
    "        \"\"\"\n",
    "        layers = [BasicBlock(self.in_ch, out_ch, stride)]\n",
    "        self.in_ch = out_ch\n",
    "        for _ in range(1, blocks):\n",
    "            layers.append(BasicBlock(out_ch, out_ch))\n",
    "        return nn.Sequential(*layers)\n",
    "\n",
    "    @staticmethod\n",
    "    def _init_weights(m):\n",
    "        if isinstance(m, nn.Conv2d):\n",
    "            nn.init.kaiming_normal_(m.weight, mode=\"fan_out\", nonlinearity=\"relu\")\n",
    "        elif isinstance(m, nn.BatchNorm2d):\n",
    "            nn.init.constant_(m.weight, 1)\n",
    "            nn.init.constant_(m.bias, 0)\n",
    "\n",
    "    def forward(self, x):\n",
    "        x = F.relu(self.bn1(self.conv1(x)))\n",
    "        x = self.layer1(x)\n",
    "        x = self.layer2(x)\n",
    "        x = self.layer3(x)\n",
    "        x = self.avgpool(x)\n",
    "        x = torch.flatten(x, 1)\n",
    "        x = self.fc(x)\n",
    "        return x"
   ]
  },
  {
   "cell_type": "code",
   "execution_count": null,
   "id": "666eebb4",
   "metadata": {},
   "outputs": [
    {
     "name": "stdout",
     "output_type": "stream",
     "text": [
      "torch.Size([1, 10])\n"
     ]
    }
   ],
   "source": [
    "# アーキテクチャに問題が無いか、ダミー入力で動作確認\n",
    "resnet20 = ResNet20()\n",
    "dummy_input = torch.randn(1, 3, 32, 32)\n",
    "output = resnet20(dummy_input)\n",
    "print(output.shape)"
   ]
  },
  {
   "cell_type": "code",
   "execution_count": 11,
   "id": "f55fba47",
   "metadata": {},
   "outputs": [
    {
     "name": "stdout",
     "output_type": "stream",
     "text": [
      "----------------------------------------------------------------\n",
      "        Layer (type)               Output Shape         Param #\n",
      "================================================================\n",
      "            Conv2d-1           [-1, 16, 32, 32]             432\n",
      "       BatchNorm2d-2           [-1, 16, 32, 32]              32\n",
      "            Conv2d-3           [-1, 16, 32, 32]           2,304\n",
      "       BatchNorm2d-4           [-1, 16, 32, 32]              32\n",
      "            Conv2d-5           [-1, 16, 32, 32]           2,304\n",
      "       BatchNorm2d-6           [-1, 16, 32, 32]              32\n",
      "        BasicBlock-7           [-1, 16, 32, 32]               0\n",
      "            Conv2d-8           [-1, 16, 32, 32]           2,304\n",
      "       BatchNorm2d-9           [-1, 16, 32, 32]              32\n",
      "           Conv2d-10           [-1, 16, 32, 32]           2,304\n",
      "      BatchNorm2d-11           [-1, 16, 32, 32]              32\n",
      "       BasicBlock-12           [-1, 16, 32, 32]               0\n",
      "           Conv2d-13           [-1, 16, 32, 32]           2,304\n",
      "      BatchNorm2d-14           [-1, 16, 32, 32]              32\n",
      "           Conv2d-15           [-1, 16, 32, 32]           2,304\n",
      "      BatchNorm2d-16           [-1, 16, 32, 32]              32\n",
      "       BasicBlock-17           [-1, 16, 32, 32]               0\n",
      "           Conv2d-18           [-1, 32, 16, 16]           4,608\n",
      "      BatchNorm2d-19           [-1, 32, 16, 16]              64\n",
      "           Conv2d-20           [-1, 32, 16, 16]           9,216\n",
      "      BatchNorm2d-21           [-1, 32, 16, 16]              64\n",
      "       BasicBlock-22           [-1, 32, 16, 16]               0\n",
      "           Conv2d-23           [-1, 32, 16, 16]           9,216\n",
      "      BatchNorm2d-24           [-1, 32, 16, 16]              64\n",
      "           Conv2d-25           [-1, 32, 16, 16]           9,216\n",
      "      BatchNorm2d-26           [-1, 32, 16, 16]              64\n",
      "       BasicBlock-27           [-1, 32, 16, 16]               0\n",
      "           Conv2d-28           [-1, 32, 16, 16]           9,216\n",
      "      BatchNorm2d-29           [-1, 32, 16, 16]              64\n",
      "           Conv2d-30           [-1, 32, 16, 16]           9,216\n",
      "      BatchNorm2d-31           [-1, 32, 16, 16]              64\n",
      "       BasicBlock-32           [-1, 32, 16, 16]               0\n",
      "           Conv2d-33             [-1, 64, 8, 8]          18,432\n",
      "      BatchNorm2d-34             [-1, 64, 8, 8]             128\n",
      "           Conv2d-35             [-1, 64, 8, 8]          36,864\n",
      "      BatchNorm2d-36             [-1, 64, 8, 8]             128\n",
      "       BasicBlock-37             [-1, 64, 8, 8]               0\n",
      "           Conv2d-38             [-1, 64, 8, 8]          36,864\n",
      "      BatchNorm2d-39             [-1, 64, 8, 8]             128\n",
      "           Conv2d-40             [-1, 64, 8, 8]          36,864\n",
      "      BatchNorm2d-41             [-1, 64, 8, 8]             128\n",
      "       BasicBlock-42             [-1, 64, 8, 8]               0\n",
      "           Conv2d-43             [-1, 64, 8, 8]          36,864\n",
      "      BatchNorm2d-44             [-1, 64, 8, 8]             128\n",
      "           Conv2d-45             [-1, 64, 8, 8]          36,864\n",
      "      BatchNorm2d-46             [-1, 64, 8, 8]             128\n",
      "       BasicBlock-47             [-1, 64, 8, 8]               0\n",
      "AdaptiveAvgPool2d-48             [-1, 64, 1, 1]               0\n",
      "           Linear-49                   [-1, 10]             650\n",
      "================================================================\n",
      "Total params: 269,722\n",
      "Trainable params: 269,722\n",
      "Non-trainable params: 0\n",
      "----------------------------------------------------------------\n",
      "Input size (MB): 0.01\n",
      "Forward/backward pass size (MB): 3.53\n",
      "Params size (MB): 1.03\n",
      "Estimated Total Size (MB): 4.57\n",
      "----------------------------------------------------------------\n"
     ]
    }
   ],
   "source": [
    "# turchsummaryでアーキテクチャとパラメータ数を確認\n",
    "summary(resnet20, (3, 32, 32), device=\"cpu\")"
   ]
  },
  {
   "attachments": {
    "image.png": {
     "image/png": "[encoded data removed]"
    }
   },
   "cell_type": "markdown",
   "id": "7c5535ae",
   "metadata": {},
   "source": [
    "![image.png](attachment:image.png)"
   ]
  },
  {
   "cell_type": "markdown",
   "id": "4f215ec5",
   "metadata": {},
   "source": [
    "### CIFAR-10の読み込み & 前処理準備"
   ]
  },
  {
   "cell_type": "markdown",
   "id": "c234121a",
   "metadata": {},
   "source": []
  }
 ],
 "metadata": {
  "kernelspec": {
   "display_name": ".venv",
   "language": "python",
   "name": "python3"
  },
  "language_info": {
   "codemirror_mode": {
    "name": "ipython",
    "version": 3
   },
   "file_extension": ".py",
   "mimetype": "text/x-python",
   "name": "python",
   "nbconvert_exporter": "python",
   "pygments_lexer": "ipython3",
   "version": "3.12.3"
  }
 },
 "nbformat": 4,
 "nbformat_minor": 5
}
