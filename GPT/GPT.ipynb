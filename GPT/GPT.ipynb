{
 "cells": [
  {
   "cell_type": "code",
   "execution_count": 2,
   "id": "86dfa4e7",
   "metadata": {},
   "outputs": [],
   "source": [
    "import os\n",
    "import random\n",
    "import math\n",
    "import numpy as np\n",
    "from tqdm.notebook import tqdm\n",
    "\n",
    "import torch\n",
    "import torch.nn as nn\n",
    "import torch.nn.functional as F\n",
    "from torch.utils.data import Dataset, DataLoader\n",
    "from torchvision import datasets, transforms\n",
    "from einops.layers.torch import Rearrange\n",
    "from einops import repeat"
   ]
  },
  {
   "cell_type": "code",
   "execution_count": 3,
   "id": "129a6310",
   "metadata": {},
   "outputs": [
    {
     "name": "stdout",
     "output_type": "stream",
     "text": [
      "Using device: mps\n"
     ]
    }
   ],
   "source": [
    "# デバイスの設定\n",
    "if torch.cuda.is_available():\n",
    "    DEVICE = \"cuda\"\n",
    "elif torch.mps.is_available():\n",
    "    DEVICE = \"mps\"\n",
    "else:\n",
    "    DEVICE = \"cpu\"\n",
    "print(f\"Using device: {DEVICE}\")"
   ]
  },
  {
   "cell_type": "markdown",
   "id": "3cf9c965",
   "metadata": {},
   "source": [
    "# GPTモデルの実装"
   ]
  },
  {
   "cell_type": "code",
   "execution_count": null,
   "id": "a8eb4abe",
   "metadata": {},
   "outputs": [],
   "source": [
    "class SelfAttention(nn.Module):\n",
    "    \"\"\" セルフアテンションを実装 \"\"\"\n",
    "    def __init__(self, config, resid_pdrop=0.1, attn_pdrop=0.1, causal=True) -> None:\n",
    "        \"\"\"\n",
    "        Args:\n",
    "            config: Config\n",
    "            resid_pdrop : float\n",
    "                出力projection層のドロップアウト率\n",
    "            attn_pdrop : float\n",
    "                Attentionのドロップアウト率\n",
    "            causal : bool\n",
    "                causal maskを利用するかどうか判別するフラグ\n",
    "        \"\"\"\n",
    "        super().__init__()\n",
    "        assert config.n_embd % config.n_head == 0\n",
    "\n",
    "        # 入力をK, Q, Vにそれぞれ変換する全結合層\n",
    "        self.key = nn.Linear(config.n_embd, config.n_embd)\n",
    "        self.query = nn.Linear(config.n_embd, config.n_embd)\n",
    "        self.value = nn.Linear(config.n_embd, config.n_embd)\n",
    "\n",
    "        self.attn_drop = nn.Dropout(attn_pdrop)\n",
    "        self.resid_drop = nn.Dropout(resid_pdrop)\n",
    "\n",
    "        # Multi-Head Attentionアウトプットの全結合層\n",
    "        self.proj = nn.Linear(config.n_embd, config.n_embd)\n",
    "\n",
    "        # torch.trilは行列の右上三角部分をゼロにして返す（予測するトークンの右側をマスク）\n",
    "        # nn.Moduleのregister_bufferは, モデルのパラメータとならないtensorを追加するのに使われる\n",
    "        if causal:\n",
    "            self.register_buffer(\n",
    "                name=\"mask\",\n",
    "                tensor=torch.tril(\n",
    "                    torch.ones(config.block_size, config.block_size)\n",
    "                ).view(1, 1, config.block_size, config.block_size)\n",
    "            )\n",
    "        self.n_head = config.n_head\n",
    "\n",
    "    def forward(self, x, layer_past=None):\n",
    "        \"\"\"\n",
    "        Args:\n",
    "            x : torch.Tensor ( b, t, d )\n",
    "                入力ベクトル系列\n",
    "                b : バッチサイズ\n",
    "                t : シークエンス長. コンテクストサイズ (block_size)よりも小さくないといけない\n",
    "                d : Embedding次元数. 上図のd_model\n",
    "        Returns:\n",
    "            y : torch.Tensor ( b, t, d )\n",
    "        \"\"\"\n",
    "        b, t, d = x.size()\n",
    "\n",
    "        # Key, Que, Valueをそれぞれの全結合層で計算\n",
    "        k = self.key(x)\n",
    "        q = self.query(x)\n",
    "        v = self.value(x)\n",
    "\n",
    "        # Multi-Head．d_kやd_vがd_model // n_headsになるような実装だが，必ずしもその必要はない\n",
    "        k = k.view(b, t, self.n_head, d // self.n_head).transpose(1, 2)\n",
    "        q = q.view(b, t, self.n_head, d // self.n_head).transpose(1, 2)\n",
    "        v = v.view(b, t, self.n_head, d // self.n_head).transpose(1, 2)\n",
    "\n",
    "        # QとKの行列積をとり, sqrt(d_k)でスケール\n",
    "        att = (q @ k.transpose(-2, -1)) * (1.0 / math.sqrt(k.size(-1)))\n",
    "\n",
    "        # Causal mask\n",
    "        if hasattr(self, \"mask\"):\n",
    "            att = att.masked_fill(self.mask[:, :, :t, :t] == 0, float('-inf'))\n",
    "\n",
    "        att = F.softmax(att, dim=-1)\n",
    "\n",
    "        att = self.attn_drop(att)\n",
    "\n",
    "        # Attention mapとValuesの行列積\n",
    "        y = att @ v\n",
    "\n",
    "        # 各headからの出力を結合\n",
    "        y = y.transpose(1, 2).contiguous().view(b, t, d)\n",
    "\n",
    "        # Attention出力のprojection層\n",
    "        y = self.resid_drop(self.proj(y)) # ( b, t, embd_dim )\n",
    "\n",
    "        return y"
   ]
  },
  {
   "cell_type": "markdown",
   "id": "d7e7c4a2",
   "metadata": {},
   "source": [
    "## Blockの定義"
   ]
  },
  {
   "cell_type": "code",
   "execution_count": 5,
   "id": "28bba31c",
   "metadata": {},
   "outputs": [],
   "source": [
    "class Block(nn.Module):\n",
    "    def __init__(self, config, resid_pdrop=0.1, causal=True) -> None:\n",
    "        \"\"\"\n",
    "        Args:\n",
    "            config (Config): 設定\n",
    "            resid_pdrop (float, optional): ドロップアウト確率. Defaults to 0.1.\n",
    "            causal (bool, optional): 読み取り方向. Defaults to True.\n",
    "        \"\"\"\n",
    "        super().__init__()\n",
    "        self.ln_1 = nn.LayerNorm(config.n_embd)\n",
    "        self.ln_2 = nn.LayerNorm(config.n_embd)\n",
    "        self.attn = SelfAttention(config, causal=causal)\n",
    "\n",
    "        self.mlp = nn.Sequential(\n",
    "            nn.Linear(config.n_embd, 4 * config.n_embd),\n",
    "            nn.GELU(),\n",
    "            nn.Linear(4 * config.n_embd, config.n_embd),\n",
    "            nn.Dropout(resid_pdrop),\n",
    "        )\n",
    "\n",
    "    def forward(self, x):\n",
    "        \"\"\"\n",
    "        Args:\n",
    "            x: torch.Tensor (b, t, d)\n",
    "        \"\"\"\n",
    "        # LinearNormalizationはAttentionやFeedForwardの前に適用する\n",
    "        # プラス、残差接続\n",
    "        x = self.attn(self.ln_1(x)) + x\n",
    "        x = self.mlp(self.ln_2(x)) + x\n",
    "        return x"
   ]
  },
  {
   "cell_type": "markdown",
   "id": "deb6a821",
   "metadata": {},
   "source": []
  }
 ],
 "metadata": {
  "kernelspec": {
   "display_name": ".venv",
   "language": "python",
   "name": "python3"
  },
  "language_info": {
   "codemirror_mode": {
    "name": "ipython",
    "version": 3
   },
   "file_extension": ".py",
   "mimetype": "text/x-python",
   "name": "python",
   "nbconvert_exporter": "python",
   "pygments_lexer": "ipython3",
   "version": "3.12.10"
  }
 },
 "nbformat": 4,
 "nbformat_minor": 5
}
